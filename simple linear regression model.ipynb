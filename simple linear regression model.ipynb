{
 "cells": [
  {
   "cell_type": "code",
   "execution_count": null,
   "id": "a5d9d842",
   "metadata": {
    "scrolled": true
   },
   "outputs": [],
   "source": [
    "# implementation of simple linear regression model"
   ]
  },
  {
   "cell_type": "code",
   "execution_count": null,
   "id": "b9d5d300",
   "metadata": {
    "scrolled": true
   },
   "outputs": [],
   "source": [
    "# import pandas as pd\n",
    "import numpy as np\n",
    "import matplotlib.pyplot as plt\n",
    "from sklearn import linear_model"
   ]
  },
  {
   "cell_type": "code",
   "execution_count": null,
   "id": "d9575132",
   "metadata": {
    "scrolled": true
   },
   "outputs": [],
   "source": [
    "#load data set of \"House priceses in monroe USA\"\n",
    "df=pd.read_csv(r\"C:\\Users\\91705\\Documents\\house_price.csv\")"
   ]
  },
  {
   "cell_type": "code",
   "execution_count": null,
   "id": "a7164593",
   "metadata": {
    "scrolled": true
   },
   "outputs": [],
   "source": [
    "#displaying the dataset\n",
    "df"
   ]
  },
  {
   "cell_type": "code",
   "execution_count": null,
   "id": "9e4782a3",
   "metadata": {
    "scrolled": true
   },
   "outputs": [],
   "source": [
    "# graphical represntation of dataset\n",
    "plt.xlabel(\"Area (sqrt ft)\")\n",
    "plt.ylabel(\"price ($ USD)\")\n",
    "plt.scatter(df.area, df.price,color='red',marker='*')"
   ]
  },
  {
   "cell_type": "code",
   "execution_count": null,
   "id": "b8859299",
   "metadata": {
    "scrolled": true
   },
   "outputs": [],
   "source": [
    "# creating and training the model\n",
    "linearRegressionModel = linear_model.LinearRegression()"
   ]
  },
  {
   "cell_type": "code",
   "execution_count": null,
   "id": "a9398765",
   "metadata": {
    "scrolled": true
   },
   "outputs": [],
   "source": [
    "#train the model (linearRegressionModel)\n",
    "linearRegressionModel.fit(df[['area']].values,df.price.values)"
   ]
  },
  {
   "cell_type": "code",
   "execution_count": null,
   "id": "f1f280ed",
   "metadata": {
    "scrolled": true
   },
   "outputs": [],
   "source": [
    "linearRegressionModel.predict([[2600]])"
   ]
  },
  {
   "cell_type": "code",
   "execution_count": null,
   "id": "e750aad8",
   "metadata": {
    "scrolled": true
   },
   "outputs": [],
   "source": [
    "#getting model coefficent\n",
    "linearRegressionModel.coef_"
   ]
  },
  {
   "cell_type": "code",
   "execution_count": null,
   "id": "3a8f5b81",
   "metadata": {
    "scrolled": true
   },
   "outputs": [],
   "source": [
    "#getting line intercept\n",
    "linearRegressionModel.intercept_"
   ]
  },
  {
   "cell_type": "code",
   "execution_count": null,
   "id": "ea69a493",
   "metadata": {
    "scrolled": true
   },
   "outputs": [],
   "source": [
    "#understanding how it ACTUALLY PREDICTS\n",
    "\n",
    "#price = m*area + b\n",
    "price=135.78767123*2600+180616.43835616432"
   ]
  },
  {
   "cell_type": "code",
   "execution_count": null,
   "id": "a0ac54ad",
   "metadata": {
    "scrolled": true
   },
   "outputs": [],
   "source": [
    "price\n"
   ]
  },
  {
   "cell_type": "code",
   "execution_count": null,
   "id": "a4e42d45",
   "metadata": {
    "scrolled": true
   },
   "outputs": [],
   "source": []
  },
  {
   "cell_type": "code",
   "execution_count": null,
   "id": "459d5a01",
   "metadata": {
    "scrolled": true
   },
   "outputs": [],
   "source": []
  },
  {
   "cell_type": "code",
   "execution_count": null,
   "id": "3ca8083f",
   "metadata": {
    "scrolled": true
   },
   "outputs": [],
   "source": []
  },
  {
   "cell_type": "code",
   "execution_count": null,
   "id": "63e4ae4b",
   "metadata": {
    "scrolled": true
   },
   "outputs": [],
   "source": [
    "# experimenting with other dataset\n",
    "\n",
    "\n",
    "dataframe=pd.read_csv(r\"C:\\Users\\91705\\Documents\\fun_dataset.csv\")"
   ]
  },
  {
   "cell_type": "code",
   "execution_count": null,
   "id": "73c3bd1f",
   "metadata": {
    "scrolled": true
   },
   "outputs": [],
   "source": [
    "dataframe\n"
   ]
  },
  {
   "cell_type": "code",
   "execution_count": null,
   "id": "c635299a",
   "metadata": {
    "scrolled": true
   },
   "outputs": [],
   "source": [
    "plt.xlabel(\"area(sqrt ft)\")\n",
    "plt.ylabel(\"price(USA $)\")\n",
    "plt.scatter(dataframe.area,dataframe.price,color=\"red\",marker=\"+\")"
   ]
  },
  {
   "cell_type": "code",
   "execution_count": null,
   "id": "82071b5a",
   "metadata": {
    "scrolled": true
   },
   "outputs": [],
   "source": [
    "reg=linear_model.LinearRegression()"
   ]
  },
  {
   "cell_type": "code",
   "execution_count": null,
   "id": "de823d99",
   "metadata": {
    "scrolled": true
   },
   "outputs": [],
   "source": [
    "reg.fit(dataframe[['area']].values,dataframe.price)"
   ]
  },
  {
   "cell_type": "code",
   "execution_count": null,
   "id": "3499618e",
   "metadata": {
    "scrolled": true
   },
   "outputs": [],
   "source": [
    "reg.predict([[10]])"
   ]
  }
 ],
 "metadata": {
  "kernelspec": {
   "display_name": "Python 3 (ipykernel)",
   "language": "python",
   "name": "python3"
  },
  "language_info": {
   "codemirror_mode": {
    "name": "ipython",
    "version": 3
   },
   "file_extension": ".py",
   "mimetype": "text/x-python",
   "name": "python",
   "nbconvert_exporter": "python",
   "pygments_lexer": "ipython3",
   "version": "3.10.5"
  }
 },
 "nbformat": 4,
 "nbformat_minor": 5
}
